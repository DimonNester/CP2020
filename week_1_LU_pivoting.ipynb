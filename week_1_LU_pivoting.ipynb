{
 "cells": [
  {
   "cell_type": "markdown",
   "metadata": {},
   "source": [
    "# I. $LU$ factorization of a square matrix"
   ]
  },
  {
   "cell_type": "markdown",
   "metadata": {},
   "source": [
    "Consider a simple naive implementation of the LU decomposition. \n",
    "\n",
    "Note that we're using the `numpy` arrays to represent matrices [do **not** use `np.matrix`]."
   ]
  },
  {
   "cell_type": "code",
   "execution_count": 1,
   "metadata": {},
   "outputs": [],
   "source": [
    "import numpy as np\n",
    "\n",
    "def diy_lu(a):\n",
    "    \"\"\"Construct the LU decomposition of the input matrix.\n",
    "    \n",
    "    Naive LU decomposition: work column by column, accumulate elementary triangular matrices.\n",
    "    No pivoting.\n",
    "    \"\"\"\n",
    "    N = a.shape[0]\n",
    "    \n",
    "    u = a.copy()\n",
    "    L = np.eye(N)\n",
    "    for j in range(N-1):\n",
    "        lam = np.eye(N)\n",
    "        gamma = u[j+1:, j] / u[j, j]\n",
    "        lam[j+1:, j] = -gamma\n",
    "        u = lam @ u\n",
    "\n",
    "        lam[j+1:, j] = gamma\n",
    "        L = L @ lam\n",
    "    return L, u"
   ]
  },
  {
   "cell_type": "code",
   "execution_count": 2,
   "metadata": {},
   "outputs": [
    {
     "name": "stdout",
     "output_type": "stream",
     "text": [
      "[[3.         3.         3.         3.         3.         3.        ]\n",
      " [3.         1.875      1.36363636 1.07142857 0.88235294 0.75      ]\n",
      " [3.         1.36363636 0.88235294 0.65217391 0.51724138 0.42857143]\n",
      " [3.         1.07142857 0.65217391 0.46875    0.36585366 0.3       ]\n",
      " [3.         0.88235294 0.51724138 0.36585366 0.28301887 0.23076923]\n",
      " [3.         0.75       0.42857143 0.3        0.23076923 0.1875    ]]\n"
     ]
    },
    {
     "data": {
      "text/plain": [
       "6"
      ]
     },
     "execution_count": 2,
     "metadata": {},
     "output_type": "execute_result"
    }
   ],
   "source": [
    "# Now, generate a full rank matrix and test the naive implementation\n",
    "\n",
    "import numpy as np\n",
    "\n",
    "N = 6\n",
    "a = np.zeros((N, N), dtype=float)\n",
    "for i in range(N):\n",
    "    for j in range(N):\n",
    "        a[i, j] = 3. / (0.6*i*j + 1)\n",
    "        \n",
    "print(a)\n",
    "\n",
    "np.linalg.matrix_rank(a)"
   ]
  },
  {
   "cell_type": "code",
   "execution_count": 3,
   "metadata": {},
   "outputs": [],
   "source": [
    "# Tweak the printing of floating-point numbers, for clarity\n",
    "np.set_printoptions(precision=3)"
   ]
  },
  {
   "cell_type": "code",
   "execution_count": 4,
   "metadata": {},
   "outputs": [
    {
     "name": "stdout",
     "output_type": "stream",
     "text": [
      "[[1.    0.    0.    0.    0.    0.   ]\n",
      " [1.    1.    0.    0.    0.    0.   ]\n",
      " [1.    1.455 1.    0.    0.    0.   ]\n",
      " [1.    1.714 1.742 1.    0.    0.   ]\n",
      " [1.    1.882 2.276 2.039 1.    0.   ]\n",
      " [1.    2.    2.671 2.944 2.354 1.   ]] \n",
      "\n",
      "[[ 3.000e+00  3.000e+00  3.000e+00  3.000e+00  3.000e+00  3.000e+00]\n",
      " [ 0.000e+00 -1.125e+00 -1.636e+00 -1.929e+00 -2.118e+00 -2.250e+00]\n",
      " [ 0.000e+00  0.000e+00  2.625e-01  4.574e-01  5.975e-01  7.013e-01]\n",
      " [ 0.000e+00  2.220e-16  0.000e+00 -2.197e-02 -4.480e-02 -6.469e-02]\n",
      " [ 0.000e+00 -4.528e-16  0.000e+00  6.939e-18  8.080e-04  1.902e-03]\n",
      " [ 0.000e+00  4.123e-16  0.000e+00 -1.634e-17  0.000e+00 -1.585e-05]] \n",
      "\n",
      "[[ 0.000e+00  0.000e+00  0.000e+00  0.000e+00  0.000e+00  0.000e+00]\n",
      " [ 0.000e+00  0.000e+00  0.000e+00  0.000e+00  0.000e+00  0.000e+00]\n",
      " [ 0.000e+00  0.000e+00 -1.110e-16  1.110e-16  1.110e-16 -5.551e-17]\n",
      " [ 0.000e+00  0.000e+00  3.331e-16 -2.220e-16 -5.551e-17  0.000e+00]\n",
      " [ 0.000e+00  0.000e+00  0.000e+00 -1.110e-16 -1.665e-16  0.000e+00]\n",
      " [ 0.000e+00  0.000e+00 -1.110e-16 -2.776e-16  1.110e-16  1.110e-16]]\n"
     ]
    }
   ],
   "source": [
    "L, u = diy_lu(a)\n",
    "\n",
    "print(L, \"\\n\")\n",
    "print(u, \"\\n\")\n",
    "\n",
    "# Quick sanity check: L times U must equal the original matrix, up to floating-point errors.\n",
    "print(L@u - a)"
   ]
  },
  {
   "cell_type": "markdown",
   "metadata": {},
   "source": [
    "# II. The need for pivoting"
   ]
  },
  {
   "cell_type": "markdown",
   "metadata": {},
   "source": [
    "Let's tweak the matrix a little bit, we only change a single element:"
   ]
  },
  {
   "cell_type": "code",
   "execution_count": 5,
   "metadata": {},
   "outputs": [
    {
     "name": "stdout",
     "output_type": "stream",
     "text": [
      "[[3.    3.    3.    3.    3.    3.   ]\n",
      " [3.    3.    1.364 1.071 0.882 0.75 ]\n",
      " [3.    1.364 0.882 0.652 0.517 0.429]\n",
      " [3.    1.071 0.652 0.469 0.366 0.3  ]\n",
      " [3.    0.882 0.517 0.366 0.283 0.231]\n",
      " [3.    0.75  0.429 0.3   0.231 0.188]]\n"
     ]
    }
   ],
   "source": [
    "a1 = a.copy()\n",
    "a1[1, 1] = 3\n",
    "print(a1)"
   ]
  },
  {
   "cell_type": "markdown",
   "metadata": {},
   "source": [
    "Resulting matix still has full rank, but the naive LU routine breaks down."
   ]
  },
  {
   "cell_type": "code",
   "execution_count": 6,
   "metadata": {},
   "outputs": [
    {
     "data": {
      "text/plain": [
       "6"
      ]
     },
     "execution_count": 6,
     "metadata": {},
     "output_type": "execute_result"
    }
   ],
   "source": [
    "np.linalg.matrix_rank(a1)"
   ]
  },
  {
   "cell_type": "code",
   "execution_count": 7,
   "metadata": {
    "scrolled": true
   },
   "outputs": [
    {
     "name": "stdout",
     "output_type": "stream",
     "text": [
      "[[nan nan nan nan nan nan]\n",
      " [nan nan nan nan nan nan]\n",
      " [nan nan nan nan nan nan]\n",
      " [nan nan nan nan nan nan]\n",
      " [nan nan nan nan nan nan]\n",
      " [nan nan nan nan nan nan]] [[nan nan nan nan nan nan]\n",
      " [nan nan nan nan nan nan]\n",
      " [nan nan nan nan nan nan]\n",
      " [nan nan nan nan nan nan]\n",
      " [nan nan nan nan nan nan]\n",
      " [nan nan nan nan nan nan]]\n"
     ]
    },
    {
     "name": "stderr",
     "output_type": "stream",
     "text": [
      "/Users/dmitry_nesterov/anaconda3/lib/python3.7/site-packages/ipykernel_launcher.py:15: RuntimeWarning: divide by zero encountered in true_divide\n",
      "  from ipykernel import kernelapp as app\n",
      "/Users/dmitry_nesterov/anaconda3/lib/python3.7/site-packages/ipykernel_launcher.py:17: RuntimeWarning: invalid value encountered in matmul\n",
      "/Users/dmitry_nesterov/anaconda3/lib/python3.7/site-packages/ipykernel_launcher.py:20: RuntimeWarning: invalid value encountered in matmul\n",
      "/Users/dmitry_nesterov/anaconda3/lib/python3.7/site-packages/ipykernel_launcher.py:15: RuntimeWarning: invalid value encountered in true_divide\n",
      "  from ipykernel import kernelapp as app\n"
     ]
    }
   ],
   "source": [
    "l, u = diy_lu(a1)\n",
    "\n",
    "print(l, u)"
   ]
  },
  {
   "cell_type": "markdown",
   "metadata": {},
   "source": [
    "### Test II.1\n",
    "\n",
    "For a naive LU decomposition to work, all leading minors of a matrix should be non-zero. Check if this requirement is satisfied for the two matrices `a` and `a1`.\n",
    "\n",
    "(20% of the grade)"
   ]
  },
  {
   "cell_type": "code",
   "execution_count": 8,
   "metadata": {},
   "outputs": [
    {
     "name": "stdout",
     "output_type": "stream",
     "text": [
      "Matrix a can be LU-decomposed\n",
      "Matrix a1 cannot be LU-decomposed\n"
     ]
    }
   ],
   "source": [
    "# ... ENTER YOUR CODE HERE ...\n",
    "def minor(a, N): #determines the value of minor. Leading minors are given by square matrix of i size, where 1<i<=n \n",
    "# and its first element coincide with the first element of an initial matrix\n",
    "    min_matrix = np.zeros((N, N), dtype=float)\n",
    "    for i in range (N):\n",
    "        for j in range (N):\n",
    "            min_matrix[i,j]=a[i,j]\n",
    "    return np.linalg.det(min_matrix)\n",
    "\n",
    "def test(a, N): #checks whether all leading minors are non-zero. If there is any, the function returns 'false'\n",
    "    result = True\n",
    "    for i in range(N):\n",
    "        if (minor(a, i) == 0):\n",
    "            result = False\n",
    "    return result\n",
    "\n",
    "if test(a, N):\n",
    "    print('Matrix a can be LU-decomposed naively')\n",
    "else: \n",
    "    print('Matrix a cannot be LU-decomposed naively')\n",
    "    \n",
    "if test(a1, N):\n",
    "    print('Matrix a1 can be LU-decomposed naively')\n",
    "else: \n",
    "    print('Matrix a1 cannot be LU-decomposed naively')   "
   ]
  },
  {
   "cell_type": "markdown",
   "metadata": {},
   "source": [
    "### Test II.2\n",
    "\n",
    "Modify the `diy_lu` routine to implement column pivoting. Keep track of pivots, you can either construct a permutation matrix, or a swap array (your choice).\n",
    "\n",
    "(40% of the grade)\n",
    "\n",
    "Implement a function to reconstruct the original matrix from a decompositon. Test your routines on the matrices `a` and `a1`.\n",
    "\n",
    "(40% of the grade)"
   ]
  },
  {
   "cell_type": "code",
   "execution_count": 50,
   "metadata": {},
   "outputs": [],
   "source": [
    "# ... ENTER YOUR CODE HERE ...\n",
    "\n",
    "def LU_with_pivoting(a):\n",
    "    N = a.shape[0]\n",
    "    \n",
    "    u = a.copy()\n",
    "    L = np.eye(N)\n",
    "    P = np.eye(N) #permutation matrix is made from indenity matrix\n",
    "    for j in range(N-1):\n",
    "        n_max = np.argmax(np.abs(u[j,j:])) + j #finding the number of column where there is a maximum element. \n",
    "        \n",
    "        #We have to add j to argument of maximum element, because we check elements only from j to n and they are\n",
    "        #numerated starting from 0\n",
    "\n",
    "        if n_max != j: #it is necessary to swap columns only if the maximum element in each is not on the main diagonal\n",
    "            P_j = np.eye(N)\n",
    "            P_j[j,j] = 0 #changing permutation matrix\n",
    "            P_j[n_max,n_max] = 0 \n",
    "            P_j[j,n_max] = 1\n",
    "            P_j[n_max,j] = 1\n",
    "            u = u @ P_j #swaping columns by right multiplying initial matrix and permutation matrix.\n",
    "            P = P @ P_j \n",
    "            \n",
    "        lam = np.eye(N) #eliminating the j-th column as usual\n",
    "        gamma = u[j+1:, j] / u[j, j]\n",
    "        lam[j+1:, j] = -gamma\n",
    "        u = lam @ u\n",
    "\n",
    "        lam[j+1:, j] = gamma\n",
    "        L = L @ lam\n",
    "        \n",
    "    return L, u, P"
   ]
  },
  {
   "cell_type": "code",
   "execution_count": 58,
   "metadata": {},
   "outputs": [
    {
     "name": "stdout",
     "output_type": "stream",
     "text": [
      "Matrix L: \n",
      " [[1.    0.    0.    0.    0.    0.   ]\n",
      " [1.    1.    0.    0.    0.    0.   ]\n",
      " [1.    1.143 1.    0.    0.    0.   ]\n",
      " [1.    1.2   1.65  1.    0.    0.   ]\n",
      " [1.    1.231 2.09  2.01  1.    0.   ]\n",
      " [1.    1.25  2.406 2.875 2.346 1.   ]] \n",
      "\n",
      "Matrix U: \n",
      " [[ 3.000e+00  3.000e+00  3.000e+00  3.000e+00  3.000e+00  3.000e+00]\n",
      " [ 0.000e+00 -2.250e+00 -1.125e+00 -1.636e+00 -1.929e+00 -2.118e+00]\n",
      " [ 0.000e+00  0.000e+00 -3.506e-01 -2.475e-01 -1.437e-01 -6.259e-02]\n",
      " [ 0.000e+00  0.000e+00  0.000e+00  2.421e-02  2.021e-02  1.030e-02]\n",
      " [ 0.000e+00  0.000e+00  0.000e+00 -6.939e-18 -6.462e-04 -5.096e-04]\n",
      " [ 0.000e+00  0.000e+00  0.000e+00  1.628e-17  2.168e-19  6.730e-06]] \n",
      "\n",
      "Permutation matrix P: \n",
      " [[1. 0. 0. 0. 0. 0.]\n",
      " [0. 0. 1. 0. 0. 0.]\n",
      " [0. 0. 0. 1. 0. 0.]\n",
      " [0. 0. 0. 0. 1. 0.]\n",
      " [0. 0. 0. 0. 0. 1.]\n",
      " [0. 1. 0. 0. 0. 0.]] \n",
      "\n",
      "Initial matrix a: \n",
      " [[3.    3.    3.    3.    3.    3.   ]\n",
      " [3.    1.875 1.364 1.071 0.882 0.75 ]\n",
      " [3.    1.364 0.882 0.652 0.517 0.429]\n",
      " [3.    1.071 0.652 0.469 0.366 0.3  ]\n",
      " [3.    0.882 0.517 0.366 0.283 0.231]\n",
      " [3.    0.75  0.429 0.3   0.231 0.188]] \n",
      "\n",
      "a = L @ U @ P^(-1): \n",
      " [[3.    3.    3.    3.    3.    3.   ]\n",
      " [3.    1.875 1.364 1.071 0.882 0.75 ]\n",
      " [3.    1.364 0.882 0.652 0.517 0.429]\n",
      " [3.    1.071 0.652 0.469 0.366 0.3  ]\n",
      " [3.    0.882 0.517 0.366 0.283 0.231]\n",
      " [3.    0.75  0.429 0.3   0.231 0.188]] \n",
      "\n"
     ]
    }
   ],
   "source": [
    "L, u, P = LU_with_pivoting(a)\n",
    "print('Matrix L:', \"\\n\", L, \"\\n\")\n",
    "print('Matrix U:', \"\\n\", u, \"\\n\")\n",
    "print('Permutation matrix P:', \"\\n\", P, \"\\n\")\n",
    "print('Initial matrix a:', \"\\n\", a, \"\\n\")\n",
    "print('a = L @ U @ P^(-1):', \"\\n\", L @ u @ np.linalg.solve(P, np.eye(N)), \"\\n\") #as AP=LU (column pivoting)"
   ]
  },
  {
   "cell_type": "code",
   "execution_count": 59,
   "metadata": {},
   "outputs": [
    {
     "name": "stdout",
     "output_type": "stream",
     "text": [
      "Matrix L: \n",
      " [[1.    0.    0.    0.    0.    0.   ]\n",
      " [1.    1.    0.    0.    0.    0.   ]\n",
      " [1.    1.143 1.    0.    0.    0.   ]\n",
      " [1.    1.2   1.179 1.    0.    0.   ]\n",
      " [1.    1.231 1.294 1.605 1.    0.   ]\n",
      " [1.    1.25  1.375 2.007 2.076 1.   ]] \n",
      "\n",
      "Matrix U: \n",
      " [[ 3.000e+00  3.000e+00  3.000e+00  3.000e+00  3.000e+00  3.000e+00]\n",
      " [ 0.000e+00 -2.250e+00  0.000e+00 -1.636e+00 -1.929e+00 -2.118e+00]\n",
      " [ 0.000e+00  0.000e+00 -1.636e+00 -2.475e-01 -1.437e-01 -6.259e-02]\n",
      " [ 0.000e+00  0.000e+00  2.220e-16 -9.247e-02 -4.755e-02 -1.920e-02]\n",
      " [ 0.000e+00  0.000e+00 -3.565e-16  0.000e+00  1.841e-03  1.181e-03]\n",
      " [ 0.000e+00  0.000e+00  2.941e-16 -2.776e-17  4.337e-19 -1.233e-05]] \n",
      "\n",
      "Permutation matrix P: \n",
      " [[1. 0. 0. 0. 0. 0.]\n",
      " [0. 0. 1. 0. 0. 0.]\n",
      " [0. 0. 0. 1. 0. 0.]\n",
      " [0. 0. 0. 0. 1. 0.]\n",
      " [0. 0. 0. 0. 0. 1.]\n",
      " [0. 1. 0. 0. 0. 0.]] \n",
      "\n",
      "Initial matrix a1: \n",
      " [[3.    3.    3.    3.    3.    3.   ]\n",
      " [3.    3.    1.364 1.071 0.882 0.75 ]\n",
      " [3.    1.364 0.882 0.652 0.517 0.429]\n",
      " [3.    1.071 0.652 0.469 0.366 0.3  ]\n",
      " [3.    0.882 0.517 0.366 0.283 0.231]\n",
      " [3.    0.75  0.429 0.3   0.231 0.188]] \n",
      "\n",
      "a1 = L @ U @ P^(-1): \n",
      " [[3.    3.    3.    3.    3.    3.   ]\n",
      " [3.    3.    1.364 1.071 0.882 0.75 ]\n",
      " [3.    1.364 0.882 0.652 0.517 0.429]\n",
      " [3.    1.071 0.652 0.469 0.366 0.3  ]\n",
      " [3.    0.882 0.517 0.366 0.283 0.231]\n",
      " [3.    0.75  0.429 0.3   0.231 0.188]] \n",
      "\n"
     ]
    }
   ],
   "source": [
    "L, u, P = LU_with_pivoting(a1)\n",
    "print('Matrix L:', \"\\n\", L, \"\\n\")\n",
    "print('Matrix U:', \"\\n\", u, \"\\n\")\n",
    "print('Permutation matrix P:', \"\\n\", P, \"\\n\")\n",
    "print('Initial matrix a1:', \"\\n\", a1, \"\\n\")\n",
    "print('a1 = L @ U @ P^(-1):', \"\\n\", L @ u @ np.linalg.solve(P, np.eye(N)), \"\\n\") "
   ]
  }
 ],
 "metadata": {
  "kernelspec": {
   "display_name": "Python 3",
   "language": "python",
   "name": "python3"
  },
  "language_info": {
   "codemirror_mode": {
    "name": "ipython",
    "version": 3
   },
   "file_extension": ".py",
   "mimetype": "text/x-python",
   "name": "python",
   "nbconvert_exporter": "python",
   "pygments_lexer": "ipython3",
   "version": "3.7.3"
  }
 },
 "nbformat": 4,
 "nbformat_minor": 2
}
