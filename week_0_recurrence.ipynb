{
 "cells": [
  {
   "cell_type": "markdown",
   "metadata": {},
   "source": [
    "Compute integrals of the form\n",
    "\n",
    "$$\n",
    "I_n = \\int_0^1 x^n e^{1-x}\\, dx\\;.\n",
    "$$\n",
    "\n",
    "Integrating by parts, we obtain a recurrence relation\n",
    "\n",
    "$$\n",
    "I_n = n I_{n-1} - 1 \\;,\n",
    "$$\n",
    "\n",
    "with the initial condition\n",
    "\n",
    "$$\n",
    "I_0 = e - 1\\;.\n",
    "$$"
   ]
  },
  {
   "cell_type": "markdown",
   "metadata": {},
   "source": [
    "These integrals can be computed using symbolic maths with `sympy`:"
   ]
  },
  {
   "cell_type": "code",
   "execution_count": 95,
   "metadata": {},
   "outputs": [
    {
     "name": "stdout",
     "output_type": "stream",
     "text": [
      "[1.7182818284590453, 0.7182818284590452, 0.43656365691809046, 0.30969097075427143, 0.23876388301708565, 0.19381941508542824, 0.16291649051256946, 0.14041543358798622, 0.12332346870388973, 0.10991121833500754, 0.0991121833500754, 0.09023401685082952, 0.08280820220995427, 0.07650662872940558, 0.07109280221167809, 0.0663920331751714, 0.06227253080274239, 0.05863302364662064, 0.05539442563917152, 0.052494087144258815, 0.049881742885176245, 0.04751660058870116, 0.04536521295142559, 0.04339989788278872, 0.041597549186929206]\n"
     ]
    }
   ],
   "source": [
    "import sympy\n",
    "x = sympy.Symbol('x')\n",
    "N = 25\n",
    "exact = [float(sympy.integrate(x**n * sympy.exp(1 - x), (x, 0, 1))) for n in range(N)]\n",
    "print(exact)"
   ]
  },
  {
   "cell_type": "markdown",
   "metadata": {},
   "source": [
    "Use the recurrence relation to compute these integrals  from $n=0$ up to $n = 24$ inclusive. \n",
    "\n",
    "\n",
    "First, use the upwards recursion, from $n=1$ upwards. Your code below must product a list of the 25 values of the integrals."
   ]
  },
  {
   "cell_type": "code",
   "execution_count": 129,
   "metadata": {},
   "outputs": [
    {
     "name": "stdout",
     "output_type": "stream",
     "text": [
      "[1.718281828459045, 0.7182818284590452, 0.43656365691809046, 0.30969097075427143, 0.23876388301708568, 0.19381941508542824, 0.16291649051256946, 0.14041543358798622, 0.12332346870388972, 0.10991121833500754, 0.0991121833500754, 0.09023401685082952, 0.08280820220995427, 0.07650662872940556, 0.07109280221167787, 0.06639203317516804, 0.06227253080268852, 0.0586330236457048, 0.05539442562268649, 0.052494086831043354, 0.049881736620867055, 0.04751646903820817, 0.04536231884057971, 0.04333333333333333, 0.04]\n"
     ]
    }
   ],
   "source": [
    "from sympy import *\n",
    "def upwards_recursion(n):\n",
    "    \"\"\"Compute the integrals using the upwards recursion.\"\"\"\n",
    "    # ENTER YOUR CODE HERE\n",
    "    i = 0\n",
    "    values = []\n",
    "    def value(i):\n",
    "        if i == n:\n",
    "            return 0\n",
    "        else:\n",
    "            return value(i+1)/(i+1)+1/(i+1)\n",
    "    values = [value(i) for i in range(n)]\n",
    "    return values\n",
    "    \n",
    "n=25\n",
    "print(upwards_recursion(n))"
   ]
  },
  {
   "cell_type": "markdown",
   "metadata": {},
   "source": [
    "Compare your results with the exact values. Discuss"
   ]
  },
  {
   "cell_type": "code",
   "execution_count": 130,
   "metadata": {},
   "outputs": [
    {
     "name": "stdout",
     "output_type": "stream",
     "text": [
      "1.718281828459045 1.7182818284590453\n",
      "0.7182818284590452 0.7182818284590452\n",
      "0.43656365691809046 0.43656365691809046\n",
      "0.30969097075427143 0.30969097075427143\n",
      "0.23876388301708568 0.23876388301708565\n",
      "0.19381941508542824 0.19381941508542824\n",
      "0.16291649051256946 0.16291649051256946\n",
      "0.14041543358798622 0.14041543358798622\n",
      "0.12332346870388972 0.12332346870388973\n",
      "0.10991121833500754 0.10991121833500754\n",
      "0.0991121833500754 0.0991121833500754\n",
      "0.09023401685082952 0.09023401685082952\n",
      "0.08280820220995427 0.08280820220995427\n",
      "0.07650662872940556 0.07650662872940558\n",
      "0.07109280221167787 0.07109280221167809\n",
      "0.06639203317516804 0.0663920331751714\n",
      "0.06227253080268852 0.06227253080274239\n",
      "0.0586330236457048 0.05863302364662064\n",
      "0.05539442562268649 0.05539442563917152\n",
      "0.052494086831043354 0.052494087144258815\n",
      "0.049881736620867055 0.049881742885176245\n",
      "0.04751646903820817 0.04751660058870116\n",
      "0.04536231884057971 0.04536521295142559\n",
      "0.04333333333333333 0.04339989788278872\n",
      "0.04 0.041597549186929206\n"
     ]
    },
    {
     "ename": "AssertionError",
     "evalue": "\nNot equal to tolerance rtol=1e-07, atol=0\n\nMismatch: 20%\nMax absolute difference: 0.00159755\nMax relative difference: 0.03840489\n x: array([1.718282, 0.718282, 0.436564, 0.309691, 0.238764, 0.193819,\n       0.162916, 0.140415, 0.123323, 0.109911, 0.099112, 0.090234,\n       0.082808, 0.076507, 0.071093, 0.066392, 0.062273, 0.058633,...\n y: array([1.718282, 0.718282, 0.436564, 0.309691, 0.238764, 0.193819,\n       0.162916, 0.140415, 0.123323, 0.109911, 0.099112, 0.090234,\n       0.082808, 0.076507, 0.071093, 0.066392, 0.062273, 0.058633,...",
     "output_type": "error",
     "traceback": [
      "\u001b[0;31m---------------------------------------------------------------------------\u001b[0m",
      "\u001b[0;31mAssertionError\u001b[0m                            Traceback (most recent call last)",
      "\u001b[0;32m<ipython-input-130-817130c18039>\u001b[0m in \u001b[0;36m<module>\u001b[0;34m\u001b[0m\n\u001b[1;32m      4\u001b[0m \u001b[0;34m\u001b[0m\u001b[0m\n\u001b[1;32m      5\u001b[0m \u001b[0;32mfrom\u001b[0m \u001b[0mnumpy\u001b[0m\u001b[0;34m.\u001b[0m\u001b[0mtesting\u001b[0m \u001b[0;32mimport\u001b[0m \u001b[0massert_allclose\u001b[0m\u001b[0;34m\u001b[0m\u001b[0;34m\u001b[0m\u001b[0m\n\u001b[0;32m----> 6\u001b[0;31m \u001b[0massert_allclose\u001b[0m\u001b[0;34m(\u001b[0m\u001b[0mvalues\u001b[0m\u001b[0;34m,\u001b[0m \u001b[0mexact\u001b[0m\u001b[0;34m)\u001b[0m\u001b[0;34m\u001b[0m\u001b[0;34m\u001b[0m\u001b[0m\n\u001b[0m",
      "\u001b[0;32m~/anaconda3/lib/python3.7/site-packages/numpy/testing/_private/utils.py\u001b[0m in \u001b[0;36massert_allclose\u001b[0;34m(actual, desired, rtol, atol, equal_nan, err_msg, verbose)\u001b[0m\n\u001b[1;32m   1513\u001b[0m     \u001b[0mheader\u001b[0m \u001b[0;34m=\u001b[0m \u001b[0;34m'Not equal to tolerance rtol=%g, atol=%g'\u001b[0m \u001b[0;34m%\u001b[0m \u001b[0;34m(\u001b[0m\u001b[0mrtol\u001b[0m\u001b[0;34m,\u001b[0m \u001b[0matol\u001b[0m\u001b[0;34m)\u001b[0m\u001b[0;34m\u001b[0m\u001b[0;34m\u001b[0m\u001b[0m\n\u001b[1;32m   1514\u001b[0m     assert_array_compare(compare, actual, desired, err_msg=str(err_msg),\n\u001b[0;32m-> 1515\u001b[0;31m                          verbose=verbose, header=header, equal_nan=equal_nan)\n\u001b[0m\u001b[1;32m   1516\u001b[0m \u001b[0;34m\u001b[0m\u001b[0m\n\u001b[1;32m   1517\u001b[0m \u001b[0;34m\u001b[0m\u001b[0m\n",
      "\u001b[0;32m~/anaconda3/lib/python3.7/site-packages/numpy/testing/_private/utils.py\u001b[0m in \u001b[0;36massert_array_compare\u001b[0;34m(comparison, x, y, err_msg, verbose, header, precision, equal_nan, equal_inf)\u001b[0m\n\u001b[1;32m    839\u001b[0m                                 \u001b[0mverbose\u001b[0m\u001b[0;34m=\u001b[0m\u001b[0mverbose\u001b[0m\u001b[0;34m,\u001b[0m \u001b[0mheader\u001b[0m\u001b[0;34m=\u001b[0m\u001b[0mheader\u001b[0m\u001b[0;34m,\u001b[0m\u001b[0;34m\u001b[0m\u001b[0;34m\u001b[0m\u001b[0m\n\u001b[1;32m    840\u001b[0m                                 names=('x', 'y'), precision=precision)\n\u001b[0;32m--> 841\u001b[0;31m             \u001b[0;32mraise\u001b[0m \u001b[0mAssertionError\u001b[0m\u001b[0;34m(\u001b[0m\u001b[0mmsg\u001b[0m\u001b[0;34m)\u001b[0m\u001b[0;34m\u001b[0m\u001b[0;34m\u001b[0m\u001b[0m\n\u001b[0m\u001b[1;32m    842\u001b[0m     \u001b[0;32mexcept\u001b[0m \u001b[0mValueError\u001b[0m\u001b[0;34m:\u001b[0m\u001b[0;34m\u001b[0m\u001b[0;34m\u001b[0m\u001b[0m\n\u001b[1;32m    843\u001b[0m         \u001b[0;32mimport\u001b[0m \u001b[0mtraceback\u001b[0m\u001b[0;34m\u001b[0m\u001b[0;34m\u001b[0m\u001b[0m\n",
      "\u001b[0;31mAssertionError\u001b[0m: \nNot equal to tolerance rtol=1e-07, atol=0\n\nMismatch: 20%\nMax absolute difference: 0.00159755\nMax relative difference: 0.03840489\n x: array([1.718282, 0.718282, 0.436564, 0.309691, 0.238764, 0.193819,\n       0.162916, 0.140415, 0.123323, 0.109911, 0.099112, 0.090234,\n       0.082808, 0.076507, 0.071093, 0.066392, 0.062273, 0.058633,...\n y: array([1.718282, 0.718282, 0.436564, 0.309691, 0.238764, 0.193819,\n       0.162916, 0.140415, 0.123323, 0.109911, 0.099112, 0.090234,\n       0.082808, 0.076507, 0.071093, 0.066392, 0.062273, 0.058633,..."
     ]
    }
   ],
   "source": [
    "values = upwards_recursion(25)\n",
    "for value, exact_value in zip(values, exact):\n",
    "    print(value, exact_value)\n",
    "\n",
    "from numpy.testing import assert_allclose\n",
    "assert_allclose(values, exact)"
   ]
  },
  {
   "cell_type": "raw",
   "metadata": {
    "collapsed": true
   },
   "source": [
    "# ENTER YOUR CONCLUSION HERE\n",
    "The accuracy improves as the number of integral considered 0 increases."
   ]
  },
  {
   "cell_type": "markdown",
   "metadata": {},
   "source": [
    "Next, use the downwards recursion. Your code below must produce a list of the 25 values of the integrals, from 0 to 24."
   ]
  },
  {
   "cell_type": "code",
   "execution_count": 131,
   "metadata": {},
   "outputs": [
    {
     "name": "stdout",
     "output_type": "stream",
     "text": [
      "[1.7182818284590453, 0.7182818284590453, 0.4365636569180906, 0.3096909707542719, 0.2387638830170875, 0.19381941508543754, 0.16291649051262524, 0.14041543358837671, 0.12332346870701372, 0.10991121836312345, 0.09911218363123453, 0.09023401994357982, 0.08280823932295789, 0.07650711119845255, 0.07109955677833568, 0.06649335167503523, 0.06389362680056365, 0.08619165560958209, 0.5514498009724775, 9.477546218477073, 188.55092436954146, 3958.5694117603707, 87087.52705872816, 2003012.1223507477, 48072289.936417945]\n"
     ]
    }
   ],
   "source": [
    "def downwards_recursion(n):\n",
    "    # ENTER YOUR CODE HERE\n",
    "    values = []\n",
    "    def value(i):\n",
    "        if i == 0:\n",
    "            return float(sympy.exp(1)-1)\n",
    "        else:\n",
    "            return i * value(i-1)-1\n",
    "    values = [value(i) for i in range(n)]\n",
    "    return values\n",
    "    \n",
    "n=25\n",
    "print(downwards_recursion(n))"
   ]
  },
  {
   "cell_type": "markdown",
   "metadata": {
    "collapsed": true
   },
   "source": [
    "Repeat the comparison with the exact values. Discuss."
   ]
  },
  {
   "cell_type": "code",
   "execution_count": 132,
   "metadata": {},
   "outputs": [
    {
     "name": "stdout",
     "output_type": "stream",
     "text": [
      "1.7182818284590453 1.7182818284590453\n",
      "0.7182818284590453 0.7182818284590452\n",
      "0.4365636569180906 0.43656365691809046\n",
      "0.3096909707542719 0.30969097075427143\n",
      "0.2387638830170875 0.23876388301708565\n",
      "0.19381941508543754 0.19381941508542824\n",
      "0.16291649051262524 0.16291649051256946\n",
      "0.14041543358837671 0.14041543358798622\n",
      "0.12332346870701372 0.12332346870388973\n",
      "0.10991121836312345 0.10991121833500754\n",
      "0.09911218363123453 0.0991121833500754\n",
      "0.09023401994357982 0.09023401685082952\n",
      "0.08280823932295789 0.08280820220995427\n",
      "0.07650711119845255 0.07650662872940558\n",
      "0.07109955677833568 0.07109280221167809\n",
      "0.06649335167503523 0.0663920331751714\n",
      "0.06389362680056365 0.06227253080274239\n",
      "0.08619165560958209 0.05863302364662064\n",
      "0.5514498009724775 0.05539442563917152\n",
      "9.477546218477073 0.052494087144258815\n",
      "188.55092436954146 0.049881742885176245\n",
      "3958.5694117603707 0.04751660058870116\n",
      "87087.52705872816 0.04536521295142559\n",
      "2003012.1223507477 0.04339989788278872\n",
      "48072289.936417945 0.041597549186929206\n"
     ]
    },
    {
     "ename": "AssertionError",
     "evalue": "\nNot equal to tolerance rtol=1e-07, atol=0\n\nMismatch: 52%\nMax absolute difference: 48072289.89482039\nMax relative difference: 1.15565198e+09\n x: array([1.718282e+00, 7.182818e-01, 4.365637e-01, 3.096910e-01,\n       2.387639e-01, 1.938194e-01, 1.629165e-01, 1.404154e-01,\n       1.233235e-01, 1.099112e-01, 9.911218e-02, 9.023402e-02,...\n y: array([1.718282, 0.718282, 0.436564, 0.309691, 0.238764, 0.193819,\n       0.162916, 0.140415, 0.123323, 0.109911, 0.099112, 0.090234,\n       0.082808, 0.076507, 0.071093, 0.066392, 0.062273, 0.058633,...",
     "output_type": "error",
     "traceback": [
      "\u001b[0;31m---------------------------------------------------------------------------\u001b[0m",
      "\u001b[0;31mAssertionError\u001b[0m                            Traceback (most recent call last)",
      "\u001b[0;32m<ipython-input-132-c645973a7b22>\u001b[0m in \u001b[0;36m<module>\u001b[0;34m\u001b[0m\n\u001b[1;32m      5\u001b[0m \u001b[0;34m\u001b[0m\u001b[0m\n\u001b[1;32m      6\u001b[0m \u001b[0;32mfrom\u001b[0m \u001b[0mnumpy\u001b[0m\u001b[0;34m.\u001b[0m\u001b[0mtesting\u001b[0m \u001b[0;32mimport\u001b[0m \u001b[0massert_allclose\u001b[0m\u001b[0;34m\u001b[0m\u001b[0;34m\u001b[0m\u001b[0m\n\u001b[0;32m----> 7\u001b[0;31m \u001b[0massert_allclose\u001b[0m\u001b[0;34m(\u001b[0m\u001b[0mvalues\u001b[0m\u001b[0;34m,\u001b[0m \u001b[0mexact\u001b[0m\u001b[0;34m)\u001b[0m\u001b[0;34m\u001b[0m\u001b[0;34m\u001b[0m\u001b[0m\n\u001b[0m",
      "\u001b[0;32m~/anaconda3/lib/python3.7/site-packages/numpy/testing/_private/utils.py\u001b[0m in \u001b[0;36massert_allclose\u001b[0;34m(actual, desired, rtol, atol, equal_nan, err_msg, verbose)\u001b[0m\n\u001b[1;32m   1513\u001b[0m     \u001b[0mheader\u001b[0m \u001b[0;34m=\u001b[0m \u001b[0;34m'Not equal to tolerance rtol=%g, atol=%g'\u001b[0m \u001b[0;34m%\u001b[0m \u001b[0;34m(\u001b[0m\u001b[0mrtol\u001b[0m\u001b[0;34m,\u001b[0m \u001b[0matol\u001b[0m\u001b[0;34m)\u001b[0m\u001b[0;34m\u001b[0m\u001b[0;34m\u001b[0m\u001b[0m\n\u001b[1;32m   1514\u001b[0m     assert_array_compare(compare, actual, desired, err_msg=str(err_msg),\n\u001b[0;32m-> 1515\u001b[0;31m                          verbose=verbose, header=header, equal_nan=equal_nan)\n\u001b[0m\u001b[1;32m   1516\u001b[0m \u001b[0;34m\u001b[0m\u001b[0m\n\u001b[1;32m   1517\u001b[0m \u001b[0;34m\u001b[0m\u001b[0m\n",
      "\u001b[0;32m~/anaconda3/lib/python3.7/site-packages/numpy/testing/_private/utils.py\u001b[0m in \u001b[0;36massert_array_compare\u001b[0;34m(comparison, x, y, err_msg, verbose, header, precision, equal_nan, equal_inf)\u001b[0m\n\u001b[1;32m    839\u001b[0m                                 \u001b[0mverbose\u001b[0m\u001b[0;34m=\u001b[0m\u001b[0mverbose\u001b[0m\u001b[0;34m,\u001b[0m \u001b[0mheader\u001b[0m\u001b[0;34m=\u001b[0m\u001b[0mheader\u001b[0m\u001b[0;34m,\u001b[0m\u001b[0;34m\u001b[0m\u001b[0;34m\u001b[0m\u001b[0m\n\u001b[1;32m    840\u001b[0m                                 names=('x', 'y'), precision=precision)\n\u001b[0;32m--> 841\u001b[0;31m             \u001b[0;32mraise\u001b[0m \u001b[0mAssertionError\u001b[0m\u001b[0;34m(\u001b[0m\u001b[0mmsg\u001b[0m\u001b[0;34m)\u001b[0m\u001b[0;34m\u001b[0m\u001b[0;34m\u001b[0m\u001b[0m\n\u001b[0m\u001b[1;32m    842\u001b[0m     \u001b[0;32mexcept\u001b[0m \u001b[0mValueError\u001b[0m\u001b[0;34m:\u001b[0m\u001b[0;34m\u001b[0m\u001b[0;34m\u001b[0m\u001b[0m\n\u001b[1;32m    843\u001b[0m         \u001b[0;32mimport\u001b[0m \u001b[0mtraceback\u001b[0m\u001b[0;34m\u001b[0m\u001b[0;34m\u001b[0m\u001b[0m\n",
      "\u001b[0;31mAssertionError\u001b[0m: \nNot equal to tolerance rtol=1e-07, atol=0\n\nMismatch: 52%\nMax absolute difference: 48072289.89482039\nMax relative difference: 1.15565198e+09\n x: array([1.718282e+00, 7.182818e-01, 4.365637e-01, 3.096910e-01,\n       2.387639e-01, 1.938194e-01, 1.629165e-01, 1.404154e-01,\n       1.233235e-01, 1.099112e-01, 9.911218e-02, 9.023402e-02,...\n y: array([1.718282, 0.718282, 0.436564, 0.309691, 0.238764, 0.193819,\n       0.162916, 0.140415, 0.123323, 0.109911, 0.099112, 0.090234,\n       0.082808, 0.076507, 0.071093, 0.066392, 0.062273, 0.058633,..."
     ]
    }
   ],
   "source": [
    "# ENTER YOUR COMPARISON HERE\n",
    "values = downwards_recursion(25)\n",
    "for value, exact_value in zip(values, exact):\n",
    "    print(value, exact_value)\n",
    "\n",
    "from numpy.testing import assert_allclose\n",
    "assert_allclose(values, exact)"
   ]
  },
  {
   "cell_type": "raw",
   "metadata": {},
   "source": [
    "# ENTER YOUR CONCLUSION HERE\n",
    "It breaks between 17th and 18th integral supposedly because of saving error of rounding."
   ]
  }
 ],
 "metadata": {
  "kernelspec": {
   "display_name": "Python 3",
   "language": "python",
   "name": "python3"
  },
  "language_info": {
   "codemirror_mode": {
    "name": "ipython",
    "version": 3
   },
   "file_extension": ".py",
   "mimetype": "text/x-python",
   "name": "python",
   "nbconvert_exporter": "python",
   "pygments_lexer": "ipython3",
   "version": "3.7.3"
  }
 },
 "nbformat": 4,
 "nbformat_minor": 2
}
