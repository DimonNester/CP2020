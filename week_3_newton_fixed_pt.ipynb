{
 "cells": [
  {
   "cell_type": "markdown",
   "metadata": {},
   "source": [
    "# Part I. Root-finding. Newton's iteration."
   ]
  },
  {
   "cell_type": "markdown",
   "metadata": {},
   "source": [
    "Write a function which performs Newton's iteration for a given function $f(x)$ with known derivative $f'(x)$. Your function should find the root of $f(x)$ with a predefined absolute accuracy $\\epsilon$. "
   ]
  },
  {
   "cell_type": "code",
   "execution_count": 177,
   "metadata": {},
   "outputs": [],
   "source": [
    "def newton_iteration(f, fder, x0, eps=1e-5, maxiter=1000):\n",
    "    \"\"\"Find a root of $f(x) = 0$ via Newton's iteration starting from x0.\n",
    "    \n",
    "    Parameters\n",
    "    ----------\n",
    "    f : callable\n",
    "        The function to find a root of.\n",
    "    fder : callable\n",
    "        The derivative of `f`.\n",
    "    x0 : float\n",
    "        Initial value for the Newton's iteration.\n",
    "    eps : float\n",
    "        The target accuracy. \n",
    "        The iteration stops when the distance between successive iterates is below `eps`.\n",
    "        Default is 1e-5.\n",
    "    maxiter : int\n",
    "        The maximum number of iterations (default is 1000.)\n",
    "        Iterations terminate if the number of iterations exceeds `maxiter`.\n",
    "        This parameter is only needed to avoid infinite loops if iterations wander off.\n",
    "        \n",
    "    Returns\n",
    "    -------\n",
    "    x : float\n",
    "        The estimate for the root.\n",
    "    niter : int\n",
    "        The number of iterations.\n",
    "    \"\"\"\n",
    "    \n",
    "    # ... ENTER YOUR CODE HERE ...\n",
    "    \n",
    "    x = x0 \n",
    "    x_i = x0 - 1 #in order to make it work in the beginning I artificially made x-x_i = x0 - x0 + 1 = 1 > 1e-5\n",
    "    i = 0 #counter of iterations\n",
    "    while abs(x - x_i) >= eps:\n",
    "        x_i = x #saving the previous value\n",
    "        x  = x - f(x) / fder(x) \n",
    "        i += 1  \n",
    "        if i == maxiter:\n",
    "            break\n",
    "    return x, i"
   ]
  },
  {
   "cell_type": "markdown",
   "metadata": {},
   "source": [
    "### Test I.1 \n",
    "\n",
    "Test your implementation on a simple example, $f(x) = x^2 - 1$ or similar. (20% of the total grade)"
   ]
  },
  {
   "cell_type": "code",
   "execution_count": 178,
   "metadata": {},
   "outputs": [
    {
     "name": "stdout",
     "output_type": "stream",
     "text": [
      "f(x)=0 if x = -1.000000000000001\n",
      "There has been 5 iterations to figure it out.\n",
      "f(x)=0 if x = 1.0\n",
      "There has been 6 iterations to figure it out.\n"
     ]
    }
   ],
   "source": [
    "# ... ENTER YOUR CODE HERE ...\n",
    "def f(x):\n",
    "    return x**2-1\n",
    "def fder(x):\n",
    "    return 2*x\n",
    "\n",
    "x, i = newton_iteration(f, fder, -0.5)\n",
    "print('f(x)=0 if x =', x)\n",
    "print('There has been', i, 'iterations to figure it out.')\n",
    "x, i = newton_iteration(f, fder, 3)\n",
    "print('f(x)=0 if x =', x)\n",
    "print('There has been', i, 'iterations to figure it out.') \n",
    "#here we can see that the result depends on a sign of an initial value"
   ]
  },
  {
   "cell_type": "markdown",
   "metadata": {},
   "source": [
    "### Test I.2\n",
    "\n",
    "Now consider a function which has a multiple root. Take $f(x) = (x^2 - 1)^2$ as an example. Implement a modified Newton's iteraion,\n",
    "\n",
    "$$\n",
    "x_{n+1} = x_{n} - m \\frac{f(x_n)}{f'(x_n)}\n",
    "$$\n",
    "\n",
    "and vary $m= 1, 2, 3, 4, 5$. Check the number of iterations required for convergence within a fixed $\\epsilon$. Are your observations consistent with the expectation that the convergence is quadratic is $m$ equals the multiplicity of the root, and is linear otherwise? (40% of the total grade)"
   ]
  },
  {
   "cell_type": "code",
   "execution_count": 179,
   "metadata": {},
   "outputs": [
    {
     "name": "stdout",
     "output_type": "stream",
     "text": [
      "f(x)=0 if x = 1.0000078296573287\n",
      "There has been 18 iterations to figure it out. \n",
      "\n",
      "f(x)=0 if x = 1.000000000000001\n",
      "There has been 5 iterations to figure it out. \n",
      "\n",
      "f(x)=0 if x = 0.9999978588127855\n",
      "There has been 17 iterations to figure it out. \n",
      "\n",
      "f(x)=0 if x = 2.0\n",
      "Iterations wandered off \n",
      "\n",
      "f(x)=0 if x = 0.5506661261324481\n",
      "Iterations wandered off \n",
      "\n"
     ]
    }
   ],
   "source": [
    "# ... ENTER YOUR CODE HERE ...\n",
    "def newton_iteration_with_m(f, fder, x0, m, eps=1e-5, maxiter=1000):\n",
    "    x = x0 \n",
    "    x_i = x0 - 1 \n",
    "    i = 0\n",
    "    while abs(x - x_i) >= eps:\n",
    "        x_i = x #saving the previous value\n",
    "        x = x - m * f(x) / fder(x) \n",
    "        i += 1  \n",
    "        if i == maxiter:\n",
    "            break\n",
    "    return x, i\n",
    "\n",
    "def f(x):\n",
    "    return (x**2-1)**2\n",
    "def fder(x):\n",
    "    return 4*x*(x**2-1)\n",
    "\n",
    "for m in range(5):\n",
    "    x, i = newton_iteration_with_m(f, fder, 2 , m+1)\n",
    "    print('f(x)=0 if x =', x)\n",
    "    if i!=1000:\n",
    "        print('There has been', i, 'iterations to figure it out.','\\n') \n",
    "    else:\n",
    "        print('Iterations wandered off','\\n')"
   ]
  },
  {
   "cell_type": "markdown",
   "metadata": {},
   "source": [
    "#### So we get that if m equals the multiplicity of the root, the convergence is the fastest. Moreover, starting from m = 4 we got infinite loops"
   ]
  },
  {
   "cell_type": "markdown",
   "metadata": {},
   "source": [
    "# Part II. Fixed-point iteration"
   ]
  },
  {
   "cell_type": "markdown",
   "metadata": {},
   "source": [
    "Consider the following equation:\n",
    "\n",
    "$$\n",
    "\\sqrt{x} = \\cos{x}\n",
    "$$\n",
    "\n",
    "Plot the left-hand side and right-hand side of this equation, and localize the root graphically. Estimate the location of the root by visual inspection of the plot.\n",
    "\n",
    "Write a function which finds the solution using fixed-point iteration up to a predefined accuracy $\\epsilon$. Compare the result to an estimate from a visual inspection.\n",
    "\n",
    "Next, rewrite the fixed-point problem in the form\n",
    "\n",
    "$$\n",
    "x = x - \\alpha f(x)\n",
    "$$\n",
    "\n",
    "where $\\alpha$ is the free parameter. Check the dependence of the number of iterations required for a given $\\epsilon$ on $\\alpha$. Compare your results to an expectation that the optimal value of $\\alpha$ is given by \n",
    "\n",
    "$$\n",
    "\\alpha = \\frac{2}{m + M}\n",
    "$$\n",
    "\n",
    "where $0 < m < |f'(x)| < M$ over the localization interval. (40% of the total grade)"
   ]
  },
  {
   "cell_type": "code",
   "execution_count": 180,
   "metadata": {},
   "outputs": [
    {
     "data": {
      "image/png": "[encoded data removed]",
      "text/plain": [
       "<Figure size 432x288 with 1 Axes>"
      ]
     },
     "metadata": {
      "needs_background": "light"
     },
     "output_type": "display_data"
    }
   ],
   "source": [
    "# ... ENTER YOUR CODE HERE ...\n",
    "import numpy as np\n",
    "from matplotlib import pyplot as plt\n",
    "\n",
    "x = np.linspace(0, 1, num = 1000)\n",
    "plt.plot(x, np.sqrt(x), label='y=sqrt(x)' )\n",
    "plt.plot(x, np.cos(x), label='y=cos(x)' )\n",
    "plt.legend()\n",
    "plt.show()"
   ]
  },
  {
   "cell_type": "markdown",
   "metadata": {},
   "source": [
    "#### So I expect the root to be nearby 0.6. It will be an initial value"
   ]
  },
  {
   "cell_type": "code",
   "execution_count": 181,
   "metadata": {},
   "outputs": [
    {
     "name": "stdout",
     "output_type": "stream",
     "text": [
      "sqrt(x) = cos(x) if x = 0.6417154785546847\n",
      "There has been 7 iterations to figure it out.\n"
     ]
    }
   ],
   "source": [
    "def fixed_point(f, x0, eps=1e-5, maxiter=1000):\n",
    "    x = x0\n",
    "    x_i = x0 - 1\n",
    "    i = 0\n",
    "    while abs(x - x_i) >= eps:\n",
    "        x_i = x #saving the previous value, as done before\n",
    "        x = x - f(x) \n",
    "        i += 1  \n",
    "        if i == maxiter:\n",
    "            break\n",
    "        \n",
    "    return x, i\n",
    "\n",
    "def f(x):\n",
    "    return np.sqrt(x) - np.cos(x) #it is convinient to solve f(x)=g(x) as f(x) - g(x) = 0\n",
    "\n",
    "x, i = fixed_point(f, 0.6)\n",
    "print('sqrt(x) = cos(x) if x =', x)\n",
    "print('There has been', i, 'iterations to figure it out.')"
   ]
  },
  {
   "cell_type": "code",
   "execution_count": 182,
   "metadata": {},
   "outputs": [
    {
     "name": "stdout",
     "output_type": "stream",
     "text": [
      "sqrt(x) = cos(x) if x = 0.6417143700661961\n",
      "There has been 3 iterations to figure it out.\n"
     ]
    }
   ],
   "source": [
    "def fixed_point_with_a(f, x0, a, eps=1e-5, maxiter=1000): #the same with parameter a given\n",
    "    x = x0\n",
    "    x_i = x0 - 1\n",
    "    i = 0\n",
    "    while abs(x - x_i) >= eps:\n",
    "        x_i = x \n",
    "        x = x - a*f(x) \n",
    "        i += 1  \n",
    "        if i == maxiter:\n",
    "            break\n",
    "        \n",
    "    return x, i\n",
    "\n",
    "def f(x):\n",
    "    return np.sqrt(x) - np.cos(x)\n",
    "def fder(x):\n",
    "    return 1/(2*np.sqrt(x))+np.sin(x)\n",
    "x = np.linspace(0.6, 0.65, 100000) \n",
    "\n",
    "a0 = 2 / (np.min(np.abs(fder(x))) + np.max(np.abs(fder(x)))) #counting the optimal a according to the formula\n",
    "\n",
    "x, i = fixed_point_with_a(f, 0.6, a0)\n",
    "print('sqrt(x) = cos(x) if x =', x)\n",
    "print('There has been', i, 'iterations to figure it out.')"
   ]
  },
  {
   "cell_type": "markdown",
   "metadata": {},
   "source": [
    "#### We see that with this a0 we need only 3 iterations to approach the result"
   ]
  },
  {
   "cell_type": "code",
   "execution_count": 183,
   "metadata": {},
   "outputs": [
    {
     "data": {
      "image/png": "[encoded data removed]",
      "text/plain": [
       "<Figure size 432x288 with 1 Axes>"
      ]
     },
     "metadata": {
      "needs_background": "light"
     },
     "output_type": "display_data"
    }
   ],
   "source": [
    "a = np.linspace(0.1, 1.5, 10000) \n",
    "\n",
    "i = [fixed_point_with_a(f, 0.6, k)[1] for k in a] #number of iterations from different a if a<1.5 and a>0.1\n",
    "plt.plot(a, i, label='Number of iterations' )\n",
    "plt.plot(a0, fixed_point_with_a(f, 0.6, a0)[1], marker='o', label='Minimum according to the formula')\n",
    "plt.legend()\n",
    "plt.show()"
   ]
  },
  {
   "cell_type": "markdown",
   "metadata": {},
   "source": [
    "#### As we see here formula works good, and with good initial value it gives an accurate result"
   ]
  },
  {
   "cell_type": "markdown",
   "metadata": {},
   "source": [
    "# Part III. Newton's fractal.\n",
    "\n",
    "(Not graded). \n",
    "\n",
    "Consider the equation\n",
    "\n",
    "$$\n",
    "x^3 = 1\n",
    "$$\n",
    "\n",
    "It has three solutions in the complex plane, $x_k = \\exp(i\\, 2\\pi k/ 3)$, $k = 0, 1, 2$.\n",
    "\n",
    "The Newton's iterations converge to one of these solutions, depending on the starting point in the complex plane (to converge to a complex-valued solution, the iteration needs a complex-valued starting point).\n",
    "\n",
    "Plot the \\emph{basins of attraction} of these roots on the complex plane of $x$ (i.e., on the plane $\\mathrm{Re}x$ -- $\\mathrm{Im}x$). To this end, make a series of calculations, varying the initial conditions on a grid of points. \n",
    "Color the grid in three colors, according to the root, to which iterations converged."
   ]
  },
  {
   "cell_type": "code",
   "execution_count": null,
   "metadata": {},
   "outputs": [],
   "source": []
  }
 ],
 "metadata": {
  "kernelspec": {
   "display_name": "Python 3",
   "language": "python",
   "name": "python3"
  },
  "language_info": {
   "codemirror_mode": {
    "name": "ipython",
    "version": 3
   },
   "file_extension": ".py",
   "mimetype": "text/x-python",
   "name": "python",
   "nbconvert_exporter": "python",
   "pygments_lexer": "ipython3",
   "version": "3.7.3"
  }
 },
 "nbformat": 4,
 "nbformat_minor": 2
}
